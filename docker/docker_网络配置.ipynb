{
 "cells": [
  {
   "cell_type": "markdown",
   "metadata": {},
   "source": [
    "# docker 网络配置\n",
    ">前言：如果需要完成docker之间的通信，那么我们应该如何实现？\n",
    "docker通信的关键点在于，容器与容器之间的通信，容器与中心的通信，nat映射\n",
    "需要源容器，作为中心节点。\n",
    "\n",
    "![image.png](pictures/e9frvrecj2q.png)\t\t\t\t\n",
    "\n",
    "\t• 第一步创建中心节点 \n",
    "\t\t○ docker -tid --name h1 mytest:v1\n",
    "\t• 第二步创建其他节点容器\n",
    "\t\t○ docker -tid --name h2 --link h1 \n",
    "完成这两步后，h1与h2就能够相互通信了\n"
   ]
  },
  {
   "cell_type": "code",
   "execution_count": null,
   "metadata": {},
   "outputs": [],
   "source": []
  }
 ],
 "metadata": {
  "kernelspec": {
   "display_name": "Python 3",
   "language": "python",
   "name": "python3"
  },
  "language_info": {
   "codemirror_mode": {
    "name": "ipython",
    "version": 3
   },
   "file_extension": ".py",
   "mimetype": "text/x-python",
   "name": "python",
   "nbconvert_exporter": "python",
   "pygments_lexer": "ipython3",
   "version": "3.5.2"
  },
  "toc": {
   "base_numbering": 1,
   "nav_menu": {},
   "number_sections": true,
   "sideBar": true,
   "skip_h1_title": false,
   "title_cell": "Table of Contents",
   "title_sidebar": "Contents",
   "toc_cell": false,
   "toc_position": {},
   "toc_section_display": true,
   "toc_window_display": false
  }
 },
 "nbformat": 4,
 "nbformat_minor": 2
}
