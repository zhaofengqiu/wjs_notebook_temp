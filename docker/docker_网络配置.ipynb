# docker 网络配置
>前言：如果需要完成docker之间的通信，那么我们应该如何实现？
docker通信的关键点在于，容器与容器之间的通信，容器与中心的通信，nat映射
需要源容器，作为中心节点。

![image.png](pictures/e9frvrecj2q.png)

	• 第一步创建中心节点 
		○ docker -tid --name h1 mytest:v1
	• 第二步创建其他节点容器
		○ docker -tid --name h2 --link h1 
完成这两步后，h1与h2就能够相互通信了


```{.python .input}

```